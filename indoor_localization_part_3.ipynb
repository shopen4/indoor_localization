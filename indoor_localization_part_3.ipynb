{
 "cells": [
  {
   "cell_type": "code",
   "execution_count": 9,
   "metadata": {},
   "outputs": [],
   "source": [
    "from tensorflow.keras.models import Sequential\n",
    "from tensorflow.keras.layers import Dense, Activation, Dropout\n",
    "from tensorflow.keras.callbacks import ModelCheckpoint, LearningRateScheduler\n",
    "from tensorflow.keras.callbacks import ReduceLROnPlateau\n",
    "from tensorflow.keras.optimizers import Adam\n",
    "\n",
    "# Python >= 3.5 is required\n",
    "import sys\n",
    "assert sys.version_info >= (3,5)\n",
    "\n",
    "# Scikit-Learn >= 0.20 is required\n",
    "import sklearn \n",
    "assert sklearn.__version__ >= \"0.20\"\n",
    "\n",
    "# common imports\n",
    "import pandas as pd\n",
    "import numpy as np \n",
    "import glob\n",
    "import os \n",
    "from numpy import genfromtxt\n",
    "\n",
    "\n",
    "# to plot pretty figures\n",
    "%matplotlib inline \n",
    "import matplotlib as mpl \n",
    "import matplotlib.pyplot as plt \n",
    "mpl.rc('axes', labelsize=14)\n",
    "mpl.rc('xtick', labelsize=12)\n",
    "mpl.rc('ytick', labelsize=12)\n",
    "\n",
    "PROJECT_ROOT_DIR = \".\"\n",
    "DATASET_PATH = os.path.join(PROJECT_ROOT_DIR, \"data\")\n",
    "IMAGES_PATH = os.path.join(PROJECT_ROOT_DIR, \"images\")\n",
    "os.makedirs(IMAGES_PATH, exist_ok=True)\n",
    "\n",
    "def save_fig(fig_id, tight_layout=True, fig_extension=\"png\", resolution=300):\n",
    "    path = os.path.join(IMAGES_PATH, fig_id + \".\" + fig_extension)\n",
    "    print(\"Saving figure\", fig_id)\n",
    "    if tight_layout:\n",
    "        plt.tight_layout()\n",
    "    plt.savefig(path, format=fig_extension, dpi=resolution)"
   ]
  },
  {
   "cell_type": "code",
   "execution_count": 10,
   "metadata": {},
   "outputs": [],
   "source": [
    "# path to csv files\n",
    "path_to_train_csvs = os.path.join(DATASET_PATH, \"train\")\n",
    "path_to_val_csvs = os.path.join(DATASET_PATH, \"val\")\n",
    "path_to_test_csvs = os.path.join(DATASET_PATH, \"test\")"
   ]
  },
  {
   "cell_type": "markdown",
   "metadata": {},
   "source": [
    "## Part 3. <font color=green>Predicting of a user's coordinates using feed forward neural networks</font>\n",
    "\n"
   ]
  },
  {
   "cell_type": "markdown",
   "metadata": {},
   "source": [
    "### Task 1. Copy and paste your previous implementations of <font color=blue>build_feats</font>, <font color=blue>build_feats_targets</font>, and <font color=blue>euclidean_distance</font>\n",
    "\n"
   ]
  },
  {
   "cell_type": "code",
   "execution_count": 11,
   "metadata": {},
   "outputs": [],
   "source": [
    "def build_feats(path_to_csvs):\n",
    "    my_data = genfromtxt(f'{path_to_csvs}/1.csv', delimiter=',')\n",
    "    \n",
    "    my_data2 = genfromtxt(f'{path_to_csvs}/2.csv', delimiter=',')\n",
    "    \n",
    "    feats = np.concatenate((my_data, my_data2), axis=0)\n",
    "\n",
    "    \n",
    "    files = os.path.join(path_to_csvs, \"*.csv\")\n",
    "\n",
    "    files = glob.glob(files)\n",
    "    \n",
    "    files.remove(f'{path_to_csvs}/1.csv')\n",
    "    files.remove(f'{path_to_csvs}/2.csv')\n",
    "    \n",
    "    for file in files:\n",
    "        my_data = genfromtxt(file, delimiter=',')\n",
    "        feats = np.concatenate((feats, my_data), axis=0)\n",
    "    \n",
    "    return feats\n",
    "\n",
    "def build_feats_targets(path_to_csvs):\n",
    "    my_data = genfromtxt(f'{path_to_csvs}/1.csv', delimiter=',')\n",
    "    \n",
    "    my_data2 = genfromtxt(f'{path_to_csvs}/2.csv', delimiter=',')\n",
    "    \n",
    "    data_set = np.concatenate((my_data, my_data2), axis=0)\n",
    "    \n",
    "    files = os.path.join(path_to_csvs, \"*.csv\")\n",
    "\n",
    "    files = glob.glob(files)\n",
    "    \n",
    "    files.remove(f'{path_to_csvs}/1.csv')\n",
    "    files.remove(f'{path_to_csvs}/2.csv')\n",
    "    \n",
    "    for file in files:\n",
    "        my_data = genfromtxt(file, delimiter=',')\n",
    "        data_set = np.concatenate((data_set, my_data), axis=0)\n",
    "\n",
    "    feats = data_set[:, :-3]\n",
    "    targets = data_set[:, -3:]\n",
    "    \n",
    "    \n",
    "    \n",
    "    return feats, targets\n",
    "\n",
    "def mean_error_dist(targets, preds):\n",
    "    sum = 0\n",
    "    for i in range(len(targets)):\n",
    "        sum += np.linalg.norm(targets[i] - preds[i])\n",
    "    dist = sum / len(targets)\n",
    "    return dist\n"
   ]
  },
  {
   "cell_type": "markdown",
   "metadata": {},
   "source": [
    "### <font color=red>NOTE !</font> \n",
    "Before we feed the data to a neural network, we first need to normalize it and substract the mean for a better convergence. \n",
    "   "
   ]
  },
  {
   "cell_type": "code",
   "execution_count": 12,
   "metadata": {},
   "outputs": [],
   "source": [
    "feats_train, targets_train = build_feats_targets(path_to_train_csvs)\n",
    "feats_train = (feats_train.astype('float32') + 100.0) / 100.0\n",
    "mean = np.mean(feats_train)\n",
    "feats_train_norm = (feats_train - mean)\n",
    "\n",
    "# verify dimensions of the returned feature matrix and a target matrix\n",
    "assert(feats_train.shape == (6049,220))\n",
    "assert(targets_train.shape == (6049,3))"
   ]
  },
  {
   "cell_type": "code",
   "execution_count": 13,
   "metadata": {},
   "outputs": [],
   "source": [
    "feats_val, targets_val = build_feats_targets(path_to_val_csvs)\n",
    "feats_val = (feats_val.astype('float32') + 100.0) / 100.0\n",
    "feats_val_norm = (feats_val - mean)\n",
    "\n",
    "# verify dimensions of the returned feature matrix and a target matrix\n",
    "assert(feats_val.shape == (1976,220))\n",
    "assert(targets_val.shape == (1976,3))"
   ]
  },
  {
   "cell_type": "code",
   "execution_count": 14,
   "metadata": {},
   "outputs": [],
   "source": [
    "feats_test = build_feats(path_to_test_csvs)\n",
    "feats_test = (feats_test.astype('float32') + 100.0) / 100.0\n",
    "feats_test_norm = (feats_test - mean)\n",
    "\n",
    "# verify dimensions of the returned feature matrix\n",
    "assert(feats_test.shape == (2601,220))"
   ]
  },
  {
   "cell_type": "markdown",
   "metadata": {},
   "source": [
    "### Task 2. Using feed forward neural networks.\n",
    "For this part, we provide you with a simple feed forward neural network (or a multi layer perceptron). The code is is given below.  You can tune the parameters, extend the network and even modify the model as you see fit in order to find the best model."
   ]
  },
  {
   "cell_type": "code",
   "execution_count": 15,
   "metadata": {},
   "outputs": [],
   "source": [
    "def lr_schedule(epoch):\n",
    "    \"\"\"Learning Rate Schedule\n",
    "        # Arguments\n",
    "            epoch (int): The number of epochs\n",
    "\n",
    "        # Returns\n",
    "            lr (float32): learning rate\n",
    "    \"\"\"\n",
    "    lr = 1e-3\n",
    "    if epoch > 50:\n",
    "        lr = 1e-4\n",
    "        \n",
    "    print('Learning rate: ', lr)\n",
    "    return lr"
   ]
  },
  {
   "cell_type": "code",
   "execution_count": 16,
   "metadata": {},
   "outputs": [],
   "source": [
    "from tensorflow.keras.models import Sequential\n",
    "from tensorflow.keras.layers import Dense, Activation, Dropout\n",
    "from tensorflow.keras.callbacks import ModelCheckpoint, LearningRateScheduler\n",
    "from tensorflow.keras.callbacks import ReduceLROnPlateau\n",
    "from tensorflow.keras.optimizers import Adam\n",
    "\n",
    "lr_scheduler = LearningRateScheduler(lr_schedule)\n",
    "\n",
    "lr_reducer = ReduceLROnPlateau(factor=np.sqrt(0.1),\n",
    "                               cooldown=0,\n",
    "                               patience=5,\n",
    "                               min_lr=0.5e-6)\n",
    "\n",
    "callbacks = [lr_reducer, lr_scheduler]"
   ]
  },
  {
   "cell_type": "code",
   "execution_count": 17,
   "metadata": {},
   "outputs": [
    {
     "name": "stdout",
     "output_type": "stream",
     "text": [
      "Model: \"sequential\"\n",
      "_________________________________________________________________\n",
      " Layer (type)                Output Shape              Param #   \n",
      "=================================================================\n",
      " dense (Dense)               (None, 128)               28288     \n",
      "                                                                 \n",
      " activation (Activation)     (None, 128)               0         \n",
      "                                                                 \n",
      " dropout (Dropout)           (None, 128)               0         \n",
      "                                                                 \n",
      " dense_1 (Dense)             (None, 128)               16512     \n",
      "                                                                 \n",
      " activation_1 (Activation)   (None, 128)               0         \n",
      "                                                                 \n",
      " dropout_1 (Dropout)         (None, 128)               0         \n",
      "                                                                 \n",
      " dense_2 (Dense)             (None, 128)               16512     \n",
      "                                                                 \n",
      " activation_2 (Activation)   (None, 128)               0         \n",
      "                                                                 \n",
      " dropout_2 (Dropout)         (None, 128)               0         \n",
      "                                                                 \n",
      " dense_3 (Dense)             (None, 3)                 387       \n",
      "                                                                 \n",
      "=================================================================\n",
      "Total params: 61,699\n",
      "Trainable params: 61,699\n",
      "Non-trainable params: 0\n",
      "_________________________________________________________________\n"
     ]
    },
    {
     "name": "stderr",
     "output_type": "stream",
     "text": [
      "2022-10-27 15:49:35.316893: W tensorflow/stream_executor/platform/default/dso_loader.cc:64] Could not load dynamic library 'libcuda.so.1'; dlerror: libcuda.so.1: cannot open shared object file: No such file or directory\n",
      "2022-10-27 15:49:35.316952: W tensorflow/stream_executor/cuda/cuda_driver.cc:263] failed call to cuInit: UNKNOWN ERROR (303)\n",
      "2022-10-27 15:49:35.316999: I tensorflow/stream_executor/cuda/cuda_diagnostics.cc:156] kernel driver does not appear to be running on this host (nandi-5420): /proc/driver/nvidia/version does not exist\n",
      "2022-10-27 15:49:35.317595: I tensorflow/core/platform/cpu_feature_guard.cc:193] This TensorFlow binary is optimized with oneAPI Deep Neural Network Library (oneDNN) to use the following CPU instructions in performance-critical operations:  AVX2 AVX512F AVX512_VNNI FMA\n",
      "To enable them in other operations, rebuild TensorFlow with the appropriate compiler flags.\n"
     ]
    }
   ],
   "source": [
    "# network parameters\n",
    "input_size = feats_train.shape[1]\n",
    "epochs = 100\n",
    "batch_size = 8\n",
    "hidden_units = 128\n",
    "dropout = 0.1\n",
    "\n",
    "# model is a 3-layer MLP with ReLU and dropout after each layer\n",
    "model = Sequential()\n",
    "model.add(Dense(hidden_units, input_dim=input_size))\n",
    "model.add(Activation('relu'))\n",
    "model.add(Dropout(dropout))\n",
    "model.add(Dense(hidden_units))\n",
    "model.add(Activation('relu'))\n",
    "model.add(Dropout(dropout))\n",
    "model.add(Dense(hidden_units))\n",
    "model.add(Activation('relu'))\n",
    "model.add(Dropout(dropout))\n",
    "model.add(Dense(3))\n",
    "model.summary()"
   ]
  },
  {
   "cell_type": "code",
   "execution_count": 18,
   "metadata": {},
   "outputs": [
    {
     "name": "stdout",
     "output_type": "stream",
     "text": [
      "Learning rate:  0.001\n",
      "Epoch 1/100\n"
     ]
    },
    {
     "name": "stderr",
     "output_type": "stream",
     "text": [
      "/home/nandi/anaconda3/lib/python3.9/site-packages/keras/optimizers/optimizer_v2/adam.py:114: UserWarning: The `lr` argument is deprecated, use `learning_rate` instead.\n",
      "  super().__init__(name, **kwargs)\n"
     ]
    },
    {
     "name": "stdout",
     "output_type": "stream",
     "text": [
      "757/757 [==============================] - 2s 2ms/step - loss: 43.4397 - mae: 3.9943 - val_loss: 8.5662 - val_mae: 1.9768\n",
      "Epoch 2/100\n",
      "757/757 [==============================] - 1s 2ms/step - loss: 12.5474 - mae: 2.4899 - val_loss: 6.4045 - val_mae: 1.6825\n",
      "Epoch 3/100\n",
      "757/757 [==============================] - 1s 2ms/step - loss: 10.5091 - mae: 2.2550 - val_loss: 5.6127 - val_mae: 1.6042\n",
      "Epoch 4/100\n",
      "757/757 [==============================] - 1s 1ms/step - loss: 9.7139 - mae: 2.1679 - val_loss: 5.2933 - val_mae: 1.5635\n",
      "Epoch 5/100\n",
      "757/757 [==============================] - 1s 1ms/step - loss: 8.9166 - mae: 2.0686 - val_loss: 5.5617 - val_mae: 1.4922\n",
      "Epoch 6/100\n",
      "757/757 [==============================] - 1s 1ms/step - loss: 8.2599 - mae: 1.9947 - val_loss: 7.3529 - val_mae: 1.7660\n",
      "Epoch 7/100\n",
      "757/757 [==============================] - 1s 2ms/step - loss: 7.6958 - mae: 1.9461 - val_loss: 4.3380 - val_mae: 1.3852\n",
      "Epoch 8/100\n",
      "757/757 [==============================] - 1s 2ms/step - loss: 7.3257 - mae: 1.8879 - val_loss: 3.9513 - val_mae: 1.2581\n",
      "Epoch 9/100\n",
      "757/757 [==============================] - 1s 1ms/step - loss: 7.0972 - mae: 1.8580 - val_loss: 3.5879 - val_mae: 1.2833\n",
      "Epoch 10/100\n",
      "757/757 [==============================] - 1s 2ms/step - loss: 6.6025 - mae: 1.7950 - val_loss: 3.9180 - val_mae: 1.3110\n",
      "Epoch 11/100\n",
      "757/757 [==============================] - 1s 1ms/step - loss: 6.6314 - mae: 1.7837 - val_loss: 3.9387 - val_mae: 1.2739\n",
      "Epoch 12/100\n",
      "757/757 [==============================] - 1s 1ms/step - loss: 6.0851 - mae: 1.7229 - val_loss: 3.4398 - val_mae: 1.2215\n",
      "Epoch 13/100\n",
      "757/757 [==============================] - 1s 1ms/step - loss: 6.0096 - mae: 1.7039 - val_loss: 3.1259 - val_mae: 1.1467\n",
      "Epoch 14/100\n",
      "757/757 [==============================] - 1s 1ms/step - loss: 5.5819 - mae: 1.6535 - val_loss: 3.1766 - val_mae: 1.2066\n",
      "Epoch 15/100\n",
      "757/757 [==============================] - 1s 1ms/step - loss: 5.7575 - mae: 1.6614 - val_loss: 2.7661 - val_mae: 1.0752\n",
      "Epoch 16/100\n",
      "757/757 [==============================] - 1s 2ms/step - loss: 5.5713 - mae: 1.6487 - val_loss: 3.1269 - val_mae: 1.1578\n",
      "Epoch 17/100\n",
      "757/757 [==============================] - 1s 2ms/step - loss: 5.3574 - mae: 1.6236 - val_loss: 3.6109 - val_mae: 1.2021\n",
      "Epoch 18/100\n",
      "757/757 [==============================] - 1s 2ms/step - loss: 5.2881 - mae: 1.5982 - val_loss: 2.5238 - val_mae: 1.0294\n",
      "Epoch 19/100\n",
      "757/757 [==============================] - 1s 1ms/step - loss: 5.0595 - mae: 1.5708 - val_loss: 2.6877 - val_mae: 1.0934\n",
      "Epoch 20/100\n",
      "757/757 [==============================] - 1s 1ms/step - loss: 4.8759 - mae: 1.5400 - val_loss: 3.0174 - val_mae: 1.0932\n",
      "Epoch 21/100\n",
      "757/757 [==============================] - 1s 1ms/step - loss: 4.7308 - mae: 1.5162 - val_loss: 3.2319 - val_mae: 1.1765\n",
      "Epoch 22/100\n",
      "757/757 [==============================] - 1s 1ms/step - loss: 4.6170 - mae: 1.5013 - val_loss: 2.4879 - val_mae: 0.9994\n",
      "Epoch 23/100\n",
      "757/757 [==============================] - 1s 2ms/step - loss: 4.7684 - mae: 1.5167 - val_loss: 3.3257 - val_mae: 1.2340\n",
      "Epoch 24/100\n",
      "757/757 [==============================] - 1s 2ms/step - loss: 4.3773 - mae: 1.4668 - val_loss: 2.3771 - val_mae: 1.0102\n",
      "Epoch 25/100\n",
      "757/757 [==============================] - 1s 2ms/step - loss: 4.3231 - mae: 1.4641 - val_loss: 2.3563 - val_mae: 1.0101\n",
      "Epoch 26/100\n",
      "757/757 [==============================] - 1s 2ms/step - loss: 4.3747 - mae: 1.4575 - val_loss: 2.3147 - val_mae: 0.9906\n",
      "Epoch 27/100\n",
      "757/757 [==============================] - 1s 2ms/step - loss: 4.3711 - mae: 1.4567 - val_loss: 3.2676 - val_mae: 1.1373\n",
      "Epoch 28/100\n",
      "757/757 [==============================] - 1s 2ms/step - loss: 4.2210 - mae: 1.4338 - val_loss: 2.8834 - val_mae: 1.0849\n",
      "Epoch 29/100\n",
      "757/757 [==============================] - 1s 2ms/step - loss: 4.0538 - mae: 1.4089 - val_loss: 3.1365 - val_mae: 1.2461\n",
      "Epoch 30/100\n",
      "757/757 [==============================] - 1s 1ms/step - loss: 3.9942 - mae: 1.3890 - val_loss: 2.7936 - val_mae: 1.0869\n",
      "Epoch 31/100\n",
      "757/757 [==============================] - 1s 1ms/step - loss: 3.8144 - mae: 1.3717 - val_loss: 2.2801 - val_mae: 0.9482\n",
      "Epoch 32/100\n",
      "757/757 [==============================] - 1s 1ms/step - loss: 4.0233 - mae: 1.3904 - val_loss: 2.2433 - val_mae: 0.9350\n",
      "Epoch 33/100\n",
      "757/757 [==============================] - 1s 1ms/step - loss: 3.8016 - mae: 1.3614 - val_loss: 2.1975 - val_mae: 0.9857\n",
      "Epoch 34/100\n",
      "757/757 [==============================] - 1s 2ms/step - loss: 3.6492 - mae: 1.3335 - val_loss: 2.1977 - val_mae: 0.9588\n",
      "Epoch 35/100\n",
      "757/757 [==============================] - 1s 2ms/step - loss: 3.6439 - mae: 1.3337 - val_loss: 2.7773 - val_mae: 1.1581\n",
      "Epoch 36/100\n",
      "757/757 [==============================] - 1s 2ms/step - loss: 3.8110 - mae: 1.3533 - val_loss: 1.8700 - val_mae: 0.8969\n",
      "Epoch 37/100\n",
      "757/757 [==============================] - 1s 2ms/step - loss: 3.4365 - mae: 1.3018 - val_loss: 2.0524 - val_mae: 0.8947\n",
      "Epoch 38/100\n",
      "757/757 [==============================] - 1s 2ms/step - loss: 3.6702 - mae: 1.3241 - val_loss: 1.9470 - val_mae: 0.8793\n",
      "Epoch 39/100\n",
      "757/757 [==============================] - 1s 1ms/step - loss: 3.4144 - mae: 1.2891 - val_loss: 2.5330 - val_mae: 0.9554\n",
      "Epoch 40/100\n",
      "757/757 [==============================] - 1s 1ms/step - loss: 3.4032 - mae: 1.2853 - val_loss: 1.9222 - val_mae: 0.8889\n",
      "Epoch 41/100\n",
      "757/757 [==============================] - 1s 1ms/step - loss: 3.4335 - mae: 1.2851 - val_loss: 2.0079 - val_mae: 0.9227\n",
      "Epoch 42/100\n",
      "757/757 [==============================] - 1s 2ms/step - loss: 3.3592 - mae: 1.2789 - val_loss: 1.8594 - val_mae: 0.8816\n",
      "Epoch 43/100\n",
      "757/757 [==============================] - 1s 1ms/step - loss: 3.2079 - mae: 1.2535 - val_loss: 1.9897 - val_mae: 0.8691\n",
      "Epoch 44/100\n",
      "757/757 [==============================] - 1s 2ms/step - loss: 3.3529 - mae: 1.2704 - val_loss: 1.9499 - val_mae: 0.8867\n",
      "Epoch 45/100\n",
      "757/757 [==============================] - 1s 2ms/step - loss: 3.2571 - mae: 1.2532 - val_loss: 2.0206 - val_mae: 0.8773\n",
      "Epoch 46/100\n",
      "757/757 [==============================] - 1s 2ms/step - loss: 3.2213 - mae: 1.2417 - val_loss: 1.7317 - val_mae: 0.8410\n",
      "Epoch 47/100\n",
      "757/757 [==============================] - 1s 2ms/step - loss: 3.1770 - mae: 1.2330 - val_loss: 2.0230 - val_mae: 0.9102\n",
      "Epoch 48/100\n",
      "757/757 [==============================] - 1s 1ms/step - loss: 3.1269 - mae: 1.2211 - val_loss: 1.8477 - val_mae: 0.8303\n",
      "Epoch 49/100\n",
      "757/757 [==============================] - 1s 1ms/step - loss: 3.1128 - mae: 1.2298 - val_loss: 1.7749 - val_mae: 0.8191\n",
      "Epoch 50/100\n",
      "757/757 [==============================] - 1s 1ms/step - loss: 2.9781 - mae: 1.2028 - val_loss: 1.7258 - val_mae: 0.8016\n",
      "Epoch 51/100\n",
      "757/757 [==============================] - 1s 1ms/step - loss: 3.0811 - mae: 1.2179 - val_loss: 2.3634 - val_mae: 0.9834\n",
      "Epoch 52/100\n",
      "757/757 [==============================] - 1s 2ms/step - loss: 3.0315 - mae: 1.2068 - val_loss: 1.8534 - val_mae: 0.8391\n",
      "Epoch 53/100\n",
      "757/757 [==============================] - 1s 2ms/step - loss: 2.9958 - mae: 1.2058 - val_loss: 1.9167 - val_mae: 0.8556\n",
      "Epoch 54/100\n",
      "757/757 [==============================] - 1s 1ms/step - loss: 2.9608 - mae: 1.1895 - val_loss: 1.9141 - val_mae: 0.8361\n",
      "Epoch 55/100\n",
      "757/757 [==============================] - 1s 1ms/step - loss: 2.9325 - mae: 1.1922 - val_loss: 2.1019 - val_mae: 0.8905\n",
      "Epoch 56/100\n",
      "757/757 [==============================] - 1s 1ms/step - loss: 2.9945 - mae: 1.1929 - val_loss: 2.5439 - val_mae: 0.9730\n",
      "Epoch 57/100\n",
      "757/757 [==============================] - 1s 2ms/step - loss: 2.8823 - mae: 1.1829 - val_loss: 1.6798 - val_mae: 0.8116\n",
      "Epoch 58/100\n",
      "757/757 [==============================] - 1s 2ms/step - loss: 2.8692 - mae: 1.1757 - val_loss: 2.0454 - val_mae: 0.8740\n",
      "Epoch 59/100\n",
      "757/757 [==============================] - 1s 1ms/step - loss: 3.0320 - mae: 1.1894 - val_loss: 1.7712 - val_mae: 0.8075\n",
      "Epoch 60/100\n",
      "757/757 [==============================] - 1s 1ms/step - loss: 2.7669 - mae: 1.1521 - val_loss: 1.7487 - val_mae: 0.8472\n",
      "Epoch 61/100\n",
      "757/757 [==============================] - 1s 1ms/step - loss: 2.7876 - mae: 1.1545 - val_loss: 1.8596 - val_mae: 0.8464\n",
      "Epoch 62/100\n",
      "757/757 [==============================] - 1s 1ms/step - loss: 2.7512 - mae: 1.1529 - val_loss: 1.9523 - val_mae: 0.8450\n",
      "Epoch 63/100\n",
      "757/757 [==============================] - 1s 2ms/step - loss: 2.6209 - mae: 1.1276 - val_loss: 2.0472 - val_mae: 0.8914\n",
      "Epoch 64/100\n",
      "757/757 [==============================] - 1s 2ms/step - loss: 2.6817 - mae: 1.1412 - val_loss: 1.8088 - val_mae: 0.8053\n",
      "Epoch 65/100\n",
      "757/757 [==============================] - 1s 2ms/step - loss: 2.7218 - mae: 1.1435 - val_loss: 1.9412 - val_mae: 0.8477\n",
      "Epoch 66/100\n",
      "757/757 [==============================] - 1s 2ms/step - loss: 2.5502 - mae: 1.1116 - val_loss: 1.7243 - val_mae: 0.7855\n",
      "Epoch 67/100\n",
      "757/757 [==============================] - 1s 2ms/step - loss: 2.6558 - mae: 1.1300 - val_loss: 1.5942 - val_mae: 0.7654\n",
      "Epoch 68/100\n",
      "757/757 [==============================] - 1s 2ms/step - loss: 2.6173 - mae: 1.1238 - val_loss: 1.7312 - val_mae: 0.8394\n",
      "Epoch 69/100\n",
      "757/757 [==============================] - 1s 1ms/step - loss: 2.5456 - mae: 1.1082 - val_loss: 1.7295 - val_mae: 0.8306\n",
      "Epoch 70/100\n",
      "757/757 [==============================] - 1s 1ms/step - loss: 2.6070 - mae: 1.1163 - val_loss: 1.8559 - val_mae: 0.8497\n",
      "Epoch 71/100\n",
      "757/757 [==============================] - 1s 1ms/step - loss: 2.5920 - mae: 1.1129 - val_loss: 1.6876 - val_mae: 0.7872\n",
      "Epoch 72/100\n",
      "757/757 [==============================] - 1s 2ms/step - loss: 2.5389 - mae: 1.1078 - val_loss: 1.6691 - val_mae: 0.7929\n",
      "Epoch 73/100\n",
      "757/757 [==============================] - 1s 2ms/step - loss: 2.5183 - mae: 1.1007 - val_loss: 1.8054 - val_mae: 0.8529\n",
      "Epoch 74/100\n",
      "757/757 [==============================] - 1s 2ms/step - loss: 2.5568 - mae: 1.1061 - val_loss: 1.9268 - val_mae: 0.8619\n",
      "Epoch 75/100\n",
      "757/757 [==============================] - 1s 1ms/step - loss: 2.4317 - mae: 1.0844 - val_loss: 1.6497 - val_mae: 0.8164\n",
      "Epoch 76/100\n",
      "757/757 [==============================] - 1s 2ms/step - loss: 2.4239 - mae: 1.0813 - val_loss: 1.6637 - val_mae: 0.7880\n",
      "Epoch 77/100\n",
      "757/757 [==============================] - 1s 2ms/step - loss: 2.5092 - mae: 1.0941 - val_loss: 1.6550 - val_mae: 0.7881\n",
      "Epoch 78/100\n",
      "757/757 [==============================] - 1s 2ms/step - loss: 2.4127 - mae: 1.0748 - val_loss: 1.6806 - val_mae: 0.7830\n",
      "Epoch 79/100\n",
      "757/757 [==============================] - 1s 1ms/step - loss: 2.4528 - mae: 1.0819 - val_loss: 1.6882 - val_mae: 0.8067\n",
      "Epoch 80/100\n",
      "757/757 [==============================] - 1s 1ms/step - loss: 2.4249 - mae: 1.0826 - val_loss: 1.7273 - val_mae: 0.7929\n",
      "Epoch 81/100\n",
      "757/757 [==============================] - 1s 1ms/step - loss: 2.4706 - mae: 1.0885 - val_loss: 1.5549 - val_mae: 0.7537\n",
      "Epoch 82/100\n",
      "757/757 [==============================] - 1s 2ms/step - loss: 2.3829 - mae: 1.0681 - val_loss: 1.8566 - val_mae: 0.8312\n",
      "Epoch 83/100\n",
      "757/757 [==============================] - 1s 2ms/step - loss: 2.4619 - mae: 1.0829 - val_loss: 1.7753 - val_mae: 0.7846\n",
      "Epoch 84/100\n",
      "757/757 [==============================] - 1s 2ms/step - loss: 2.4213 - mae: 1.0762 - val_loss: 1.4771 - val_mae: 0.7309\n",
      "Epoch 85/100\n",
      "757/757 [==============================] - 1s 1ms/step - loss: 2.3404 - mae: 1.0574 - val_loss: 1.6379 - val_mae: 0.7754\n",
      "Epoch 86/100\n",
      "757/757 [==============================] - 1s 1ms/step - loss: 2.2725 - mae: 1.0482 - val_loss: 1.6737 - val_mae: 0.7987\n",
      "Epoch 87/100\n",
      "757/757 [==============================] - 1s 2ms/step - loss: 2.3282 - mae: 1.0559 - val_loss: 1.6862 - val_mae: 0.7734\n",
      "Epoch 88/100\n",
      "757/757 [==============================] - 1s 2ms/step - loss: 2.3560 - mae: 1.0585 - val_loss: 2.0746 - val_mae: 0.8777\n",
      "Epoch 89/100\n",
      "757/757 [==============================] - 1s 2ms/step - loss: 2.3310 - mae: 1.0579 - val_loss: 1.8626 - val_mae: 0.8583\n",
      "Epoch 90/100\n",
      "757/757 [==============================] - 1s 1ms/step - loss: 2.3141 - mae: 1.0565 - val_loss: 1.5747 - val_mae: 0.7624\n",
      "Epoch 91/100\n",
      "757/757 [==============================] - 1s 2ms/step - loss: 2.2741 - mae: 1.0390 - val_loss: 1.6819 - val_mae: 0.7675\n",
      "Epoch 92/100\n",
      "757/757 [==============================] - 1s 2ms/step - loss: 2.2273 - mae: 1.0312 - val_loss: 1.7200 - val_mae: 0.7798\n",
      "Epoch 93/100\n",
      "757/757 [==============================] - 1s 2ms/step - loss: 2.2293 - mae: 1.0279 - val_loss: 1.6515 - val_mae: 0.7784\n",
      "Epoch 94/100\n",
      "757/757 [==============================] - 1s 2ms/step - loss: 2.2471 - mae: 1.0406 - val_loss: 1.7338 - val_mae: 0.7895\n",
      "Epoch 95/100\n",
      "757/757 [==============================] - 1s 1ms/step - loss: 2.3325 - mae: 1.0512 - val_loss: 1.5571 - val_mae: 0.7454\n",
      "Epoch 96/100\n",
      "757/757 [==============================] - 1s 2ms/step - loss: 2.2265 - mae: 1.0308 - val_loss: 1.6123 - val_mae: 0.7555\n",
      "Epoch 97/100\n",
      "757/757 [==============================] - 1s 2ms/step - loss: 2.1970 - mae: 1.0267 - val_loss: 1.9079 - val_mae: 0.8186\n",
      "Epoch 98/100\n",
      "757/757 [==============================] - 1s 2ms/step - loss: 2.2486 - mae: 1.0461 - val_loss: 1.4495 - val_mae: 0.7414\n",
      "Epoch 99/100\n",
      "757/757 [==============================] - 1s 2ms/step - loss: 2.1945 - mae: 1.0276 - val_loss: 1.7383 - val_mae: 0.7934\n",
      "Epoch 100/100\n",
      "757/757 [==============================] - 1s 2ms/step - loss: 2.2711 - mae: 1.0330 - val_loss: 1.6007 - val_mae: 0.7733\n"
     ]
    }
   ],
   "source": [
    "optimizer = Adam(lr=lr_schedule(0))\n",
    "model.compile(loss='mse',\n",
    "              optimizer=optimizer,\n",
    "              metrics=['mae'])\n",
    "\n",
    "# train the network\n",
    "H = model.fit(\n",
    "    feats_train_norm, targets_train,\n",
    "    validation_data=(feats_val_norm, targets_val), \n",
    "    batch_size=batch_size, \n",
    "    epochs=epochs,\n",
    "    shuffle=True)"
   ]
  },
  {
   "cell_type": "markdown",
   "metadata": {},
   "source": [
    "Take advantage of the code below to visualize the progression of your training"
   ]
  },
  {
   "cell_type": "code",
   "execution_count": 19,
   "metadata": {},
   "outputs": [
    {
     "name": "stdout",
     "output_type": "stream",
     "text": [
      "Saving figure mse_loss\n"
     ]
    },
    {
     "data": {
      "image/png": "[encoded data removed]",
      "text/plain": [
       "<Figure size 640x480 with 1 Axes>"
      ]
     },
     "metadata": {},
     "output_type": "display_data"
    }
   ],
   "source": [
    "plt.style.use(\"ggplot\")\n",
    "plt.figure()\n",
    "plt.plot(np.arange(0, epochs), H.history[\"loss\"], label=\"train_loss\")\n",
    "plt.plot(np.arange(0, epochs), H.history[\"val_loss\"], label=\"val_loss\")\n",
    "plt.title(\"MSE\")\n",
    "plt.xlabel(\"Epoch #\")\n",
    "plt.ylabel(\"Loss\")\n",
    "plt.legend(loc=\"lower left\")\n",
    "save_fig(\"mse_loss\")"
   ]
  },
  {
   "cell_type": "code",
   "execution_count": 20,
   "metadata": {},
   "outputs": [
    {
     "name": "stdout",
     "output_type": "stream",
     "text": [
      "Saving figure mae_loss\n"
     ]
    },
    {
     "data": {
      "image/png": "[encoded data removed]",
      "text/plain": [
       "<Figure size 640x480 with 1 Axes>"
      ]
     },
     "metadata": {},
     "output_type": "display_data"
    }
   ],
   "source": [
    "plt.style.use(\"ggplot\")\n",
    "plt.figure()\n",
    "plt.plot(np.arange(0, epochs), H.history[\"mae\"], label=\"train_mae\")\n",
    "plt.plot(np.arange(0, epochs), H.history[\"val_mae\"], label=\"val_mae\")\n",
    "plt.title(\"MAE\")\n",
    "plt.xlabel(\"Epoch #\")\n",
    "plt.ylabel(\"Loss\")\n",
    "plt.legend(loc=\"lower left\")\n",
    "save_fig(\"mae_loss\")"
   ]
  },
  {
   "cell_type": "markdown",
   "metadata": {},
   "source": [
    "Feel free to experiment with the network and let us know what result you got"
   ]
  },
  {
   "cell_type": "code",
   "execution_count": 21,
   "metadata": {},
   "outputs": [
    {
     "name": "stdout",
     "output_type": "stream",
     "text": [
      "247/247 [==============================] - 0s 646us/step\n"
     ]
    },
    {
     "data": {
      "text/plain": [
       "1.7975094534536684"
      ]
     },
     "execution_count": 21,
     "metadata": {},
     "output_type": "execute_result"
    }
   ],
   "source": [
    "preds = model.predict(feats_val_norm, batch_size=batch_size)\n",
    "mean_error_dist(targets_val, preds)"
   ]
  },
  {
   "cell_type": "markdown",
   "metadata": {},
   "source": [
    "### Feel free to experiment with the network or come up with a different DL approach. \n",
    "### The best mean error distance we got so far is 1.44.  Email us (<font color=blue>issai@nu.edu.kz</font>) the predictions of your best estimator on the test features AND your solutions to see how well you did !\n",
    "<font color=red> Please don't forget that the target values of test set are stacked in the order of csv files. If your test features do not follow this order, your result will be ruined.</font>"
   ]
  },
  {
   "cell_type": "code",
   "execution_count": 22,
   "metadata": {},
   "outputs": [
    {
     "name": "stdout",
     "output_type": "stream",
     "text": [
      "326/326 [==============================] - 0s 658us/step\n"
     ]
    }
   ],
   "source": [
    "preds = model.predict(feats_test_norm, batch_size=batch_size)\n",
    "\n",
    "name = \"John\" # change to your first name\n",
    "surname = \"Snow\" # change to your lastname\n",
    "\n",
    "# email your csv file to issai@nu.edu.kz\n",
    "pd.DataFrame(preds).to_csv(\"{}_{}.csv\".format(name, surname), header=None, index=None)"
   ]
  },
  {
   "cell_type": "code",
   "execution_count": null,
   "metadata": {},
   "outputs": [],
   "source": []
  }
 ],
 "metadata": {
  "kernelspec": {
   "display_name": "Python 3 (ipykernel)",
   "language": "python",
   "name": "python3"
  },
  "language_info": {
   "codemirror_mode": {
    "name": "ipython",
    "version": 3
   },
   "file_extension": ".py",
   "mimetype": "text/x-python",
   "name": "python",
   "nbconvert_exporter": "python",
   "pygments_lexer": "ipython3",
   "version": "3.9.13"
  }
 },
 "nbformat": 4,
 "nbformat_minor": 4
}
